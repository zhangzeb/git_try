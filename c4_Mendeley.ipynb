{
 "cells": [
  {
   "cell_type": "code",
   "execution_count": null,
   "metadata": {},
   "outputs": [],
   "source": [
    "#mendeley 相对比较好的文献管理软件"
   ]
  },
  {
   "cell_type": "markdown",
   "metadata": {},
   "source": [
    "# 2.Mendeley\n",
    "### 学习资源分类\n",
    "\n",
    "* 视频\n",
    "    * 万门，网易云课堂，coursera，udacity\n",
    "* 教科书\n",
    "    * 周志华老师的《机器学习》\n",
    "    * lan Goodfellow《深度学习》\n",
    "    * W.Mchinney 《Python for data analysis》\n",
    "* paper论文或者小章节（理论基础较好者，在有志学习深度学习以及）"
   ]
  },
  {
   "cell_type": "markdown",
   "metadata": {},
   "source": [
    "![study_list](./study_list.jpg)"
   ]
  },
  {
   "cell_type": "markdown",
   "metadata": {},
   "source": [
    "![recommend_3books](./study_3books_machinelearning.jpg)"
   ]
  },
  {
   "cell_type": "code",
   "execution_count": null,
   "metadata": {},
   "outputs": [],
   "source": []
  },
  {
   "cell_type": "code",
   "execution_count": null,
   "metadata": {},
   "outputs": [],
   "source": []
  },
  {
   "cell_type": "code",
   "execution_count": null,
   "metadata": {},
   "outputs": [],
   "source": []
  }
 ],
 "metadata": {
  "kernelspec": {
   "display_name": "Python 3",
   "language": "python",
   "name": "python3"
  },
  "language_info": {
   "codemirror_mode": {
    "name": "ipython",
    "version": 3
   },
   "file_extension": ".py",
   "mimetype": "text/x-python",
   "name": "python",
   "nbconvert_exporter": "python",
   "pygments_lexer": "ipython3",
   "version": "3.7.1"
  }
 },
 "nbformat": 4,
 "nbformat_minor": 2
}
