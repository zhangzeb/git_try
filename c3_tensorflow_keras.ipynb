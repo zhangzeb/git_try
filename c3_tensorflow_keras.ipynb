{
 "cells": [
  {
   "cell_type": "code",
   "execution_count": 1,
   "metadata": {},
   "outputs": [],
   "source": [
    "# tensorflow 的几种安装方式\n",
    "# conda create -n tensorflow python=3.5\n",
    "# activate tensorflow\n",
    "# pip install --ignor_installed --upgrade tensorflow"
   ]
  },
  {
   "cell_type": "code",
   "execution_count": 6,
   "metadata": {
    "scrolled": true
   },
   "outputs": [],
   "source": [
    "import tensorflow as tf"
   ]
  },
  {
   "cell_type": "code",
   "execution_count": null,
   "metadata": {},
   "outputs": [],
   "source": []
  },
  {
   "cell_type": "markdown",
   "metadata": {},
   "source": [
    "<span style=\"color:blue\">A</span>"
   ]
  },
  {
   "cell_type": "markdown",
   "metadata": {},
   "source": [
    "**heiti**"
   ]
  },
  {
   "cell_type": "markdown",
   "metadata": {},
   "source": [
    "* liechu\n",
    "\n",
    "**heti**\n",
    "\n",
    "\n",
    "1. liechuwodeguandian\n",
    "\n",
    "2. sadfljlskdajf\n",
    "\n",
    "3. sdf\n",
    "\n",
    "3. adsfjaoie\n",
    "\n",
    "3. sadfsdfa\n",
    "\n",
    "$\\sum_{\\forall i}{x_i^2}$\n",
    "\n"
   ]
  },
  {
   "cell_type": "markdown",
   "metadata": {},
   "source": [
    "* 第一种写法"
   ]
  },
  {
   "cell_type": "markdown",
   "metadata": {},
   "source": [
    "![sdfdf](http://www.hrbeu.edu.cn/images/indexr3_r1_c3.jpg)\n",
    "\n",
    "![sdfdf](1.png)\n",
    "\n",
    "\n",
    "<img src='./1.png',width=200>\n",
    "\n",
    "\n",
    "\n"
   ]
  },
  {
   "cell_type": "markdown",
   "metadata": {},
   "source": [
    "### 插入表格\n",
    "\n",
    "    |sdfsf    |asdfsdf   |dfasdf    |\n",
    "    |-------adfdsf |:--------sadfasdf|:-----dasfsdf"
   ]
  },
  {
   "cell_type": "code",
   "execution_count": null,
   "metadata": {},
   "outputs": [],
   "source": []
  },
  {
   "cell_type": "code",
   "execution_count": 1,
   "metadata": {},
   "outputs": [
    {
     "name": "stdout",
     "output_type": "stream",
     "text": [
      "hello~~~\n"
     ]
    }
   ],
   "source": [
    "print(\"hello~~~\")\n",
    "\n",
    "\n",
    "\n"
   ]
  },
  {
   "cell_type": "code",
   "execution_count": 2,
   "metadata": {},
   "outputs": [],
   "source": [
    "def wanmen():\n",
    "    print('hello everyone')"
   ]
  },
  {
   "cell_type": "code",
   "execution_count": 3,
   "metadata": {},
   "outputs": [
    {
     "name": "stdout",
     "output_type": "stream",
     "text": [
      "hello everyone\n"
     ]
    }
   ],
   "source": [
    "wanmen()"
   ]
  }
 ],
 "metadata": {
  "kernelspec": {
   "display_name": "py35",
   "language": "python",
   "name": "py35"
  },
  "language_info": {
   "codemirror_mode": {
    "name": "ipython",
    "version": 3
   },
   "file_extension": ".py",
   "mimetype": "text/x-python",
   "name": "python",
   "nbconvert_exporter": "python",
   "pygments_lexer": "ipython3",
   "version": "3.5.6"
  }
 },
 "nbformat": 4,
 "nbformat_minor": 2
}
